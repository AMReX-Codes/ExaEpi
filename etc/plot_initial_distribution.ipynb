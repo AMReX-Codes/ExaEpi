{
 "cells": [
  {
   "cell_type": "code",
   "execution_count": null,
   "id": "da8f0305",
   "metadata": {},
   "outputs": [],
   "source": [
    "import yt\n",
    "import numpy as np\n",
    "%pylab inline"
   ]
  },
  {
   "cell_type": "code",
   "execution_count": null,
   "id": "d064c5cd",
   "metadata": {},
   "outputs": [],
   "source": [
    "ds = yt.load(\"agent_data/plt00000\")"
   ]
  },
  {
   "cell_type": "code",
   "execution_count": null,
   "id": "1ce411f0",
   "metadata": {},
   "outputs": [],
   "source": [
    "ad = ds.all_data()\n",
    "cell_pops = ad['total'].d"
   ]
  },
  {
   "cell_type": "code",
   "execution_count": null,
   "id": "125c32f0",
   "metadata": {},
   "outputs": [],
   "source": [
    "np.where(cell_pops == 0)"
   ]
  },
  {
   "cell_type": "code",
   "execution_count": null,
   "id": "59e8ca40",
   "metadata": {},
   "outputs": [],
   "source": [
    "cell_pops[np.where(cell_pops == 0)[0]] = 12"
   ]
  },
  {
   "cell_type": "code",
   "execution_count": null,
   "id": "dfbfbfde",
   "metadata": {},
   "outputs": [],
   "source": [
    "N, bins = np.histogram(np.log10(cell_pops), 100)"
   ]
  },
  {
   "cell_type": "code",
   "execution_count": null,
   "id": "d9d02ba7",
   "metadata": {},
   "outputs": [],
   "source": [
    "fig = plt.gcf()\n",
    "fig.set_size_inches((8, 8))\n",
    "plt.semilogy((bins[1:] + bins[:-1])/2.0, N)\n",
    "plt.semilogy(bins[10:40], 5e6*(10**(bins[10:40]))**-1.5)\n",
    "ax = plt.gca()\n",
    "ax.set_xlabel(r\"Log10 (Agents/Cell)\")\n",
    "ax.set_ylabel(r\"Num Cells\")\n",
    "plt.legend((\"Initial agent distribution\", \"Power Law with -1.5 slope\"))\n",
    "plt.savefig(\"initial_agent_histogram\")"
   ]
  },
  {
   "cell_type": "code",
   "execution_count": null,
   "id": "1bda8b49",
   "metadata": {},
   "outputs": [],
   "source": [
    "fig = plt.gcf()\n",
    "fig.set_size_inches((12, 12))\n",
    "plt.pcolormesh(np.log10(cell_pops.reshape(3000, 3000)))\n",
    "plt.colorbar(label=r\"Log10 (Agents/Cell)\")\n",
    "ax = plt.gca()\n",
    "ax.set_ylabel(\"Cell Number - y\")\n",
    "ax.set_xlabel(\"Cell Number - x\")\n",
    "\n",
    "plt.savefig(\"initial_agent_mesh\")"
   ]
  }
 ],
 "metadata": {
  "kernelspec": {
   "display_name": "Python 3",
   "language": "python",
   "name": "python3"
  },
  "language_info": {
   "codemirror_mode": {
    "name": "ipython",
    "version": 3
   },
   "file_extension": ".py",
   "mimetype": "text/x-python",
   "name": "python",
   "nbconvert_exporter": "python",
   "pygments_lexer": "ipython3",
   "version": "3.8.8"
  }
 },
 "nbformat": 4,
 "nbformat_minor": 5
}
