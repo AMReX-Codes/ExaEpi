{
 "cells": [
  {
   "cell_type": "code",
   "execution_count": null,
   "id": "3670fe86",
   "metadata": {},
   "outputs": [],
   "source": [
    "%pylab inline"
   ]
  },
  {
   "cell_type": "code",
   "execution_count": null,
   "id": "47af5d87",
   "metadata": {},
   "outputs": [],
   "source": [
    "infected = []\n",
    "immune = []\n",
    "never = []\n",
    "with open(\"agent_data/run_9_cases.out\") as f:\n",
    "    for line in f:\n",
    "        if line.startswith(\"Susceptible: \"):\n",
    "            never.append(int(line.strip().split()[-1]))\n",
    "        if line.startswith(\"Infected: \"):\n",
    "            infected.append(int(line.strip().split()[1]))\n",
    "        if line.startswith(\"Recovered: \"):\n",
    "            immune.append(int(line.strip().split()[1]))"
   ]
  },
  {
   "cell_type": "code",
   "execution_count": null,
   "id": "6be65f92",
   "metadata": {},
   "outputs": [],
   "source": [
    "time = np.arange(0, 2016) / 24"
   ]
  },
  {
   "cell_type": "code",
   "execution_count": null,
   "id": "9fb0c5e9",
   "metadata": {},
   "outputs": [],
   "source": [
    "plt.plot(time, never)\n",
    "plt.plot(time, infected)\n",
    "plt.plot(time, immune)\n",
    "ax = plt.gca()\n",
    "ax.set_xlabel(\"Day\")\n",
    "ax.set_ylabel(\"Number\")\n",
    "plt.legend((\"Susceptible\", \"Infected\", \"Recovered\"))\n",
    "\n",
    "plt.savefig(\"infected_9_cases\")"
   ]
  }
 ],
 "metadata": {
  "kernelspec": {
   "display_name": "Python 3",
   "language": "python",
   "name": "python3"
  },
  "language_info": {
   "codemirror_mode": {
    "name": "ipython",
    "version": 3
   },
   "file_extension": ".py",
   "mimetype": "text/x-python",
   "name": "python",
   "nbconvert_exporter": "python",
   "pygments_lexer": "ipython3",
   "version": "3.8.8"
  }
 },
 "nbformat": 4,
 "nbformat_minor": 5
}
