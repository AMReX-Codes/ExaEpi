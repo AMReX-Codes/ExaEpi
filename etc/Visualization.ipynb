{
 "cells": [
  {
   "cell_type": "code",
   "execution_count": null,
   "id": "b11c5e9f",
   "metadata": {},
   "outputs": [],
   "source": [
    "%pylab inline"
   ]
  },
  {
   "cell_type": "code",
   "execution_count": null,
   "id": "d5b679af",
   "metadata": {},
   "outputs": [],
   "source": [
    "def read_particles(fn):\n",
    "    x = []\n",
    "    y = []\n",
    "    d = []\n",
    "    with open(fn, \"r\") as f:\n",
    "        _ = f.readline()\n",
    "        _ = f.readline()\n",
    "        _ = f.readline()\n",
    "        _ = f.readline()\n",
    "        _ = f.readline()\n",
    "        for line in f:\n",
    "            vals = line.strip().split()\n",
    "            x.append(np.float64(vals[0]))\n",
    "            y.append(np.float64(vals[1]))\n",
    "            d.append(int(vals[21]))\n",
    "    return np.array(x), np.array(y), np.array(d)"
   ]
  },
  {
   "cell_type": "code",
   "execution_count": null,
   "id": "65f1c700",
   "metadata": {},
   "outputs": [],
   "source": [
    "x, y, d = read_particles(\"particles00100\")"
   ]
  },
  {
   "cell_type": "code",
   "execution_count": null,
   "id": "7c6ebd7c",
   "metadata": {},
   "outputs": [],
   "source": [
    "ninf = len(np.where(d == 1)[0])\n",
    "print(\"Number of infected: %d / 1000\" % ninf)"
   ]
  },
  {
   "cell_type": "code",
   "execution_count": null,
   "id": "8de1ce8b",
   "metadata": {},
   "outputs": [],
   "source": [
    "fig = plt.gcf()\n",
    "fig.set_size_inches(12, 12)\n",
    "plt.plot(x[np.where(d == 1)], y[np.where(d == 1)], 'r.')\n",
    "plt.plot(x[np.where(d == 0)], y[np.where(d == 0)], 'b.')\n",
    "ax = plt.gca()\n",
    "ax.axis((0, 1024, 0, 1024))\n",
    "ax.xaxis.set_major_locator(MultipleLocator(512))\n",
    "ax.yaxis.set_major_locator(MultipleLocator(512))\n",
    "ax.xaxis.set_minor_locator(MultipleLocator(32))\n",
    "ax.yaxis.set_minor_locator(MultipleLocator(32))\n",
    "grid(color='k', linestyle='-', linewidth=2, which='major')\n",
    "grid(color='k', linestyle='--', linewidth=1, which='minor')"
   ]
  }
 ],
 "metadata": {
  "kernelspec": {
   "display_name": "Python 3",
   "language": "python",
   "name": "python3"
  },
  "language_info": {
   "codemirror_mode": {
    "name": "ipython",
    "version": 3
   },
   "file_extension": ".py",
   "mimetype": "text/x-python",
   "name": "python",
   "nbconvert_exporter": "python",
   "pygments_lexer": "ipython3",
   "version": "3.6.9"
  }
 },
 "nbformat": 4,
 "nbformat_minor": 5
}
